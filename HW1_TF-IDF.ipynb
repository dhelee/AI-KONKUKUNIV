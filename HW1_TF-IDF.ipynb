{
 "cells": [
  {
   "cell_type": "code",
   "execution_count": 1,
   "metadata": {},
   "outputs": [],
   "source": [
    "import math\n",
    "import re"
   ]
  },
  {
   "cell_type": "markdown",
   "metadata": {},
   "source": [
    "## 1. document 읽어들이기"
   ]
  },
  {
   "cell_type": "code",
   "execution_count": 2,
   "metadata": {},
   "outputs": [],
   "source": [
    "doc1_path = '단어중요도구하기/문서1.txt'\n",
    "with open(doc1_path, 'r', encoding='utf8') as temp:\n",
    "    doc1 = temp.readlines()\n",
    "\n",
    "doc2_path = '단어중요도구하기/문서2.txt'\n",
    "with open(doc2_path, 'r', encoding='utf8') as temp:\n",
    "    doc2 = temp.readlines()\n",
    "    \n",
    "doc3_path = '단어중요도구하기/문서3.txt'\n",
    "with open(doc3_path, 'r', encoding='utf8') as temp:\n",
    "    doc3 = temp.readlines()"
   ]
  },
  {
   "cell_type": "markdown",
   "metadata": {},
   "source": [
    "## 2. document의 word bag 만들기"
   ]
  },
  {
   "cell_type": "code",
   "execution_count": 3,
   "metadata": {},
   "outputs": [],
   "source": [
    "# 문장부호 등 특수문자 제거하기 위한 함수 정의\n",
    "def remove_special_char(text):\n",
    "    text = text.strip()\n",
    "    p = re.compile('[ a-zA-Z0-9]')\n",
    "    text = p.findall(text)\n",
    "    text = ''.join(text)\n",
    "    return text"
   ]
  },
  {
   "cell_type": "code",
   "execution_count": 4,
   "metadata": {},
   "outputs": [],
   "source": [
    "# document를 인자로 받아서 띄어쓰기 단위로 word bag 생성하기 위한 함수 정의\n",
    "def doc_to_word_bag(doc):\n",
    "    word_bag = []\n",
    "    for line in doc:\n",
    "        line = remove_special_char(line)\n",
    "        word_bag += line.split(' ')\n",
    "    return word_bag"
   ]
  },
  {
   "cell_type": "code",
   "execution_count": 5,
   "metadata": {},
   "outputs": [],
   "source": [
    "word_bag1 = doc_to_word_bag(doc1)\n",
    "word_bag2 = doc_to_word_bag(doc2)\n",
    "word_bag3 = doc_to_word_bag(doc3)"
   ]
  },
  {
   "cell_type": "markdown",
   "metadata": {},
   "source": [
    "## 3. document 내 단어의 Term Frequency 구하기"
   ]
  },
  {
   "cell_type": "code",
   "execution_count": 6,
   "metadata": {},
   "outputs": [],
   "source": [
    "# word bag을 인자로 받아서 단어의 문서 내 빈도 수를 세는 함수\n",
    "def count_term_freq(word_bag):\n",
    "    term_freq = {}\n",
    "    for word in word_bag:\n",
    "        if word not in term_freq.keys():\n",
    "            term_freq[word] = 1\n",
    "        else:\n",
    "            term_freq[word] += 1\n",
    "    return term_freq"
   ]
  },
  {
   "cell_type": "code",
   "execution_count": 7,
   "metadata": {
    "scrolled": true
   },
   "outputs": [],
   "source": [
    "term_freq1 = count_term_freq(word_bag1)\n",
    "term_freq2 = count_term_freq(word_bag2)\n",
    "term_freq3 = count_term_freq(word_bag3)"
   ]
  },
  {
   "cell_type": "markdown",
   "metadata": {},
   "source": [
    "## 4. document 내 단어의 Document Frequency 구하기 "
   ]
  },
  {
   "cell_type": "code",
   "execution_count": 8,
   "metadata": {},
   "outputs": [],
   "source": [
    "# 모든 문서들의 word_bag을 인자로 받아서 단어들의 document frequency 구하는 함수\n",
    "def count_doc_freq(doc_index, word_bag_list):\n",
    "    doc_freq = {}\n",
    "    # 예를 들어 0번째 문서 내 단어들의 df를 구하고자 한다면, doc_index=0\n",
    "    for word in word_bag_list[doc_index]:\n",
    "        count = 0\n",
    "        # 모든 word bag을 검사하여 해당 단어가 있는지 count  \n",
    "        for i in range(len(word_bag_list)):\n",
    "            if word in word_bag_list[i]:\n",
    "                count += 1\n",
    "                doc_freq[word] = count\n",
    "    return doc_freq"
   ]
  },
  {
   "cell_type": "code",
   "execution_count": 9,
   "metadata": {},
   "outputs": [],
   "source": [
    "word_bag_list = [word_bag1, word_bag2, word_bag3]"
   ]
  },
  {
   "cell_type": "code",
   "execution_count": 10,
   "metadata": {},
   "outputs": [],
   "source": [
    "doc_freq1 = count_doc_freq(0, word_bag_list)\n",
    "doc_freq2 = count_doc_freq(1, word_bag_list)\n",
    "doc_freq3 = count_doc_freq(2, word_bag_list)"
   ]
  },
  {
   "cell_type": "markdown",
   "metadata": {},
   "source": [
    "## 5. document 내 단어의 weight 구하기 : TF-IDF "
   ]
  },
  {
   "cell_type": "code",
   "execution_count": 11,
   "metadata": {},
   "outputs": [],
   "source": [
    "def get_weights(term_freq, doc_freq):\n",
    "    term_weight = {}\n",
    "    for word in term_freq.keys():\n",
    "        term_weight[word] = term_freq[word] * math.log(3/doc_freq[word])\n",
    "    # 가중치 내림차순 정렬\n",
    "    term_weight = sorted(term_weight.items(), key=lambda x : x[1], reverse=True)\n",
    "    return term_weight"
   ]
  },
  {
   "cell_type": "code",
   "execution_count": 12,
   "metadata": {},
   "outputs": [],
   "source": [
    "term_weight1 = get_weights(term_freq1, doc_freq1)\n",
    "term_weight2 = get_weights(term_freq2, doc_freq2)\n",
    "term_weight3 = get_weights(term_freq3, doc_freq3)"
   ]
  },
  {
   "cell_type": "markdown",
   "metadata": {},
   "source": [
    "## 6. document별 weight 상위 5개 단어들"
   ]
  },
  {
   "cell_type": "code",
   "execution_count": 13,
   "metadata": {},
   "outputs": [
    {
     "data": {
      "text/plain": [
       "[('Seoul', 6.591673732008658),\n",
       " ('Chungju', 3.295836866004329),\n",
       " ('campus', 3.295836866004329),\n",
       " ('Campus', 3.295836866004329),\n",
       " ('located', 2.1972245773362196),\n",
       " ('The', 2.1972245773362196),\n",
       " ('13', 2.1972245773362196),\n",
       " ('undergraduate', 2.1972245773362196),\n",
       " ('colleges', 2.1972245773362196),\n",
       " ('graduate', 2.1972245773362196),\n",
       " ('schools', 2.1972245773362196),\n",
       " ('students', 2.1972245773362196),\n",
       " ('attending', 2.1972245773362196),\n",
       " ('in', 1.6218604324326575),\n",
       " ('Konkuk', 1.0986122886681098),\n",
       " ('University', 1.0986122886681098),\n",
       " ('one', 1.0986122886681098),\n",
       " ('comprehensive', 1.0986122886681098),\n",
       " ('private', 1.0986122886681098),\n",
       " ('universities', 1.0986122886681098),\n",
       " ('southeastern', 1.0986122886681098),\n",
       " ('part', 1.0986122886681098),\n",
       " ('near', 1.0986122886681098),\n",
       " ('Han', 1.0986122886681098),\n",
       " ('River', 1.0986122886681098),\n",
       " ('served', 1.0986122886681098),\n",
       " ('metro', 1.0986122886681098),\n",
       " ('station', 1.0986122886681098),\n",
       " ('same', 1.0986122886681098),\n",
       " ('name', 1.0986122886681098),\n",
       " ('has', 1.0986122886681098),\n",
       " ('whereas', 1.0986122886681098),\n",
       " ('Glocal', 1.0986122886681098),\n",
       " ('composed', 1.0986122886681098),\n",
       " ('7', 1.0986122886681098),\n",
       " ('2', 1.0986122886681098),\n",
       " ('Currently', 1.0986122886681098),\n",
       " ('23000', 1.0986122886681098),\n",
       " ('238980m', 1.0986122886681098),\n",
       " ('15500', 1.0986122886681098),\n",
       " ('31763m', 1.0986122886681098),\n",
       " ('Global', 1.0986122886681098),\n",
       " ('which', 1.0986122886681098),\n",
       " ('about', 1.0986122886681098),\n",
       " ('an', 1.0986122886681098),\n",
       " ('hour', 1.0986122886681098),\n",
       " ('away', 1.0986122886681098),\n",
       " ('by', 0.4054651081081644),\n",
       " ('a', 0.4054651081081644),\n",
       " ('are', 0.4054651081081644),\n",
       " ('from', 0.4054651081081644),\n",
       " ('is', 0.0),\n",
       " ('of', 0.0),\n",
       " ('the', 0.0),\n",
       " ('and', 0.0)]"
      ]
     },
     "execution_count": 13,
     "metadata": {},
     "output_type": "execute_result"
    }
   ],
   "source": [
    "# 문서 1\n",
    "term_weight1"
   ]
  },
  {
   "cell_type": "markdown",
   "metadata": {},
   "source": [
    "### 문서 1. \n",
    "- Seoul\n",
    "- Chungju\n",
    "- campus\n",
    "- Campus\n",
    "- located  "
   ]
  },
  {
   "cell_type": "code",
   "execution_count": 14,
   "metadata": {},
   "outputs": [
    {
     "data": {
      "text/plain": [
       "[('engineering', 8.788898309344878),\n",
       " ('software', 4.394449154672439),\n",
       " ('Computer', 3.295836866004329),\n",
       " ('computer', 3.295836866004329),\n",
       " ('electronic', 3.295836866004329),\n",
       " ('design', 3.295836866004329),\n",
       " ('hardware', 2.1972245773362196),\n",
       " ('engineers', 2.1972245773362196),\n",
       " ('only', 2.1972245773362196),\n",
       " ('how', 2.1972245773362196),\n",
       " ('CpE', 1.0986122886681098),\n",
       " ('branch', 1.0986122886681098),\n",
       " ('integrates', 1.0986122886681098),\n",
       " ('several', 1.0986122886681098),\n",
       " ('fields', 1.0986122886681098),\n",
       " ('science', 1.0986122886681098),\n",
       " ('required', 1.0986122886681098),\n",
       " ('develop', 1.0986122886681098),\n",
       " ('usually', 1.0986122886681098),\n",
       " ('have', 1.0986122886681098),\n",
       " ('training', 1.0986122886681098),\n",
       " ('electrical', 1.0986122886681098),\n",
       " ('hardwaresoftware', 1.0986122886681098),\n",
       " ('integration', 1.0986122886681098),\n",
       " ('instead', 1.0986122886681098),\n",
       " ('involved', 1.0986122886681098),\n",
       " ('many', 1.0986122886681098),\n",
       " ('aspects', 1.0986122886681098),\n",
       " ('computing', 1.0986122886681098),\n",
       " ('individual', 1.0986122886681098),\n",
       " ('microcontrollers', 1.0986122886681098),\n",
       " ('microprocessors', 1.0986122886681098),\n",
       " ('personal', 1.0986122886681098),\n",
       " ('supercomputers', 1.0986122886681098),\n",
       " ('circuit', 1.0986122886681098),\n",
       " ('This', 1.0986122886681098),\n",
       " ('not', 1.0986122886681098),\n",
       " ('focuses', 1.0986122886681098),\n",
       " ('on', 1.0986122886681098),\n",
       " ('systems', 1.0986122886681098),\n",
       " ('themselves', 1.0986122886681098),\n",
       " ('work', 1.0986122886681098),\n",
       " ('but', 1.0986122886681098),\n",
       " ('also', 1.0986122886681098),\n",
       " ('they', 1.0986122886681098),\n",
       " ('integrate', 1.0986122886681098),\n",
       " ('into', 1.0986122886681098),\n",
       " ('larger', 1.0986122886681098),\n",
       " ('picture', 1.0986122886681098),\n",
       " ('to', 0.8109302162163288),\n",
       " ('in', 0.8109302162163288),\n",
       " ('or', 0.8109302162163288),\n",
       " ('a', 0.4054651081081644),\n",
       " ('that', 0.4054651081081644),\n",
       " ('are', 0.4054651081081644),\n",
       " ('from', 0.4054651081081644),\n",
       " ('computers', 0.4054651081081644),\n",
       " ('field', 0.4054651081081644),\n",
       " ('is', 0.0),\n",
       " ('of', 0.0),\n",
       " ('and', 0.0),\n",
       " ('the', 0.0)]"
      ]
     },
     "execution_count": 14,
     "metadata": {},
     "output_type": "execute_result"
    }
   ],
   "source": [
    "# 문서 2\n",
    "term_weight2"
   ]
  },
  {
   "cell_type": "markdown",
   "metadata": {},
   "source": [
    "### 문서 2.\n",
    "- engineering\n",
    "- software\n",
    "- Computer\n",
    "- computer\n",
    "- electronic"
   ]
  },
  {
   "cell_type": "code",
   "execution_count": 15,
   "metadata": {},
   "outputs": [
    {
     "data": {
      "text/plain": [
       "[('intelligence', 5.493061443340549),\n",
       " ('its', 3.295836866004329),\n",
       " ('AI', 2.1972245773362196),\n",
       " ('machines', 2.1972245773362196),\n",
       " ('humans', 2.1972245773362196),\n",
       " ('as', 2.1972245773362196),\n",
       " ('that', 1.6218604324326575),\n",
       " ('Artificial', 1.0986122886681098),\n",
       " ('sometimes', 1.0986122886681098),\n",
       " ('called', 1.0986122886681098),\n",
       " ('machine', 1.0986122886681098),\n",
       " ('demonstrated', 1.0986122886681098),\n",
       " ('unlike', 1.0986122886681098),\n",
       " ('natural', 1.0986122886681098),\n",
       " ('displayed', 1.0986122886681098),\n",
       " ('animals', 1.0986122886681098),\n",
       " ('Leading', 1.0986122886681098),\n",
       " ('textbooks', 1.0986122886681098),\n",
       " ('define', 1.0986122886681098),\n",
       " ('study', 1.0986122886681098),\n",
       " ('intelligent', 1.0986122886681098),\n",
       " ('agents', 1.0986122886681098),\n",
       " ('any', 1.0986122886681098),\n",
       " ('device', 1.0986122886681098),\n",
       " ('perceives', 1.0986122886681098),\n",
       " ('environment', 1.0986122886681098),\n",
       " ('takes', 1.0986122886681098),\n",
       " ('actions', 1.0986122886681098),\n",
       " ('maximize', 1.0986122886681098),\n",
       " ('chance', 1.0986122886681098),\n",
       " ('successfully', 1.0986122886681098),\n",
       " ('achieving', 1.0986122886681098),\n",
       " ('goals', 1.0986122886681098),\n",
       " ('Colloquially', 1.0986122886681098),\n",
       " ('term', 1.0986122886681098),\n",
       " ('artificial', 1.0986122886681098),\n",
       " ('often', 1.0986122886681098),\n",
       " ('used', 1.0986122886681098),\n",
       " ('describe', 1.0986122886681098),\n",
       " ('mimic', 1.0986122886681098),\n",
       " ('cognitive', 1.0986122886681098),\n",
       " ('functions', 1.0986122886681098),\n",
       " ('associate', 1.0986122886681098),\n",
       " ('with', 1.0986122886681098),\n",
       " ('human', 1.0986122886681098),\n",
       " ('mind', 1.0986122886681098),\n",
       " ('such', 1.0986122886681098),\n",
       " ('learning', 1.0986122886681098),\n",
       " ('problem', 1.0986122886681098),\n",
       " ('solving', 1.0986122886681098),\n",
       " ('by', 0.8109302162163288),\n",
       " ('field', 0.4054651081081644),\n",
       " ('to', 0.4054651081081644),\n",
       " ('or', 0.4054651081081644),\n",
       " ('computers', 0.4054651081081644),\n",
       " ('is', 0.0),\n",
       " ('the', 0.0),\n",
       " ('and', 0.0),\n",
       " ('of', 0.0)]"
      ]
     },
     "execution_count": 15,
     "metadata": {},
     "output_type": "execute_result"
    }
   ],
   "source": [
    "# 문서 3\n",
    "term_weight3"
   ]
  },
  {
   "cell_type": "markdown",
   "metadata": {},
   "source": [
    "### 문서 3. \n",
    "- intelligence\n",
    "- its\n",
    "- AI\n",
    "- machines\n",
    "- humans"
   ]
  },
  {
   "cell_type": "code",
   "execution_count": null,
   "metadata": {},
   "outputs": [],
   "source": []
  }
 ],
 "metadata": {
  "kernelspec": {
   "display_name": "Python 3",
   "language": "python",
   "name": "python3"
  },
  "language_info": {
   "codemirror_mode": {
    "name": "ipython",
    "version": 3
   },
   "file_extension": ".py",
   "mimetype": "text/x-python",
   "name": "python",
   "nbconvert_exporter": "python",
   "pygments_lexer": "ipython3",
   "version": "3.8.3"
  }
 },
 "nbformat": 4,
 "nbformat_minor": 4
}
