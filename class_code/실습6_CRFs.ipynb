{
  "nbformat": 4,
  "nbformat_minor": 0,
  "metadata": {
    "colab": {
      "name": "실습6-CRFs.ipynb",
      "provenance": []
    },
    "kernelspec": {
      "name": "python3",
      "display_name": "Python 3"
    }
  },
  "cells": [
    {
      "cell_type": "markdown",
      "metadata": {
        "id": "eKBhnt2IsZEZ"
      },
      "source": [
        "<pre>\n",
        "<h2> 1. \"spacing_data.txt\"로 부터 데이터를 읽고 datas에 저장 </h2>\n",
        "  1.1 입력 데이터 형태\n",
        "    예시) 나 는 사 과 가 좋 아 \\t B I B I I B I\n",
        "    \n",
        "    \"나는 사과가 좋아\" 라는 문장이 있을 때, 공백을 기준으로 나눈 \"나는\", \"사과가\", \"좋아\"를 각각 어절이라고 함\n",
        "    각 어절의 시작음절을 \"B\"로 나머지를 \"I\"로 태깅하였고 문장과 라벨을 \\t으로 구분해놓은 상태\n",
        "\n",
        "  1.2 데이터 변환\n",
        "\n",
        "    입력 데이터를 읽고 탭을 기준으로 문장과 라벨을 분리\n",
        "      예시) \"나 는 사 과 가 좋 아 \\t B I B I I B I\" -> [\"나 는 사 과 가 좋 아\", \"B I B I I B I\"]\n",
        "    문장과 라벨을 공백 기준으로 나눈다\n",
        "      예시)\"나 는 사 과 가 좋 아\" -> [\"나\", \"는\", \"사\", \"과\", \"가\", \"좋\", \"아\"]\n",
        "           \"B I B I I B I\" -> [\"B\", \"I\", \"B\", \"I\", \"I\", \"B\", \"I\"]\n",
        "    문장과 라벨을 튜플형태로 datas 리스트에 넣는다\n",
        "    datas = [ ( [\"나\", \"는\", \"사\", \"과\", \"가\", \"좋\", \"아\"], [\"B\", \"I\", \"B\", \"I\", \"I\", \"B\", \"I\"] ), ( ... ), ... ]\n",
        "    \n",
        "<h2> 2. 전체 데이터를 9:1 비율에 맞추어 학습, 평가 데이터로 나누기 </h2>\n",
        "  2.1 train_datas 리스트와 test_datas 리스트에 나누어 저장\n",
        "</pre>"
      ]
    },
    {
      "cell_type": "code",
      "metadata": {
        "id": "YNzi8TJPsS6M",
        "outputId": "024ac2f2-81dc-441d-e1b4-cec3394398aa",
        "colab": {
          "base_uri": "https://localhost:8080/",
          "height": 193
        }
      },
      "source": [
        "!pip install sklearn-crfsuite"
      ],
      "execution_count": 1,
      "outputs": [
        {
          "output_type": "stream",
          "text": [
            "Collecting sklearn-crfsuite\n",
            "  Downloading https://files.pythonhosted.org/packages/25/74/5b7befa513482e6dee1f3dd68171a6c9dfc14c0eaa00f885ffeba54fe9b0/sklearn_crfsuite-0.3.6-py2.py3-none-any.whl\n",
            "Requirement already satisfied: tabulate in /usr/local/lib/python3.6/dist-packages (from sklearn-crfsuite) (0.8.7)\n",
            "Requirement already satisfied: tqdm>=2.0 in /usr/local/lib/python3.6/dist-packages (from sklearn-crfsuite) (4.41.1)\n",
            "Collecting python-crfsuite>=0.8.3\n",
            "\u001b[?25l  Downloading https://files.pythonhosted.org/packages/95/99/869dde6dbf3e0d07a013c8eebfb0a3d30776334e0097f8432b631a9a3a19/python_crfsuite-0.9.7-cp36-cp36m-manylinux1_x86_64.whl (743kB)\n",
            "\u001b[K     |████████████████████████████████| 747kB 4.0MB/s \n",
            "\u001b[?25hRequirement already satisfied: six in /usr/local/lib/python3.6/dist-packages (from sklearn-crfsuite) (1.15.0)\n",
            "Installing collected packages: python-crfsuite, sklearn-crfsuite\n",
            "Successfully installed python-crfsuite-0.9.7 sklearn-crfsuite-0.3.6\n"
          ],
          "name": "stdout"
        }
      ]
    },
    {
      "cell_type": "code",
      "metadata": {
        "id": "6iAjc12dtNti"
      },
      "source": [
        "import sklearn_crfsuite\n",
        "from sklearn_crfsuite import metrics"
      ],
      "execution_count": 9,
      "outputs": []
    },
    {
      "cell_type": "code",
      "metadata": {
        "id": "T0Y4q-9BsfAT"
      },
      "source": [
        "# 파일 경로\n",
        "file_path = '/content/drive/My Drive/인공지능/week6/spacing_data.txt'\n",
        "\n",
        "# 데이터 파일을 읽고 저장\n",
        "with open(file_path, \"r\", encoding='utf8') as inFile:\n",
        "    lines = inFile.readlines()"
      ],
      "execution_count": 2,
      "outputs": []
    },
    {
      "cell_type": "code",
      "metadata": {
        "id": "L1WiVb0MtAJn"
      },
      "source": [
        "# 데이터를 음절로 이루어진 문장과 정답 값으로 나누어 저장\n",
        "datas = []\n",
        "for line in lines:\n",
        "    pieces = line.strip().split('\\t')\n",
        "    eumjeol_sequence, label = pieces[0].split(), pieces[1].split()\n",
        "    datas.append((eumjeol_sequence, label))"
      ],
      "execution_count": 3,
      "outputs": []
    },
    {
      "cell_type": "code",
      "metadata": {
        "id": "p3tqdhTBtBp8",
        "outputId": "21b57840-8be4-4179-acfc-13afcc3ae9bd",
        "colab": {
          "base_uri": "https://localhost:8080/",
          "height": 52
        }
      },
      "source": [
        "# train test split\n",
        "num_of_train_datas = int(len(datas)*0.9)\n",
        "\n",
        "train_datas = datas[:num_of_train_datas]\n",
        "test_datas = datas[num_of_train_datas:]\n",
        "\n",
        "print(len(train_datas))\n",
        "print(len(test_datas))"
      ],
      "execution_count": 4,
      "outputs": [
        {
          "output_type": "stream",
          "text": [
            "900\n",
            "100\n"
          ],
          "name": "stdout"
        }
      ]
    },
    {
      "cell_type": "code",
      "metadata": {
        "id": "JdVfqpHgtC7I",
        "outputId": "a5eb90be-059c-4fd3-a6b4-270c4ee583bb",
        "colab": {
          "base_uri": "https://localhost:8080/",
          "height": 125
        }
      },
      "source": [
        "for data in train_datas[:5]:\n",
        "    print(data)"
      ],
      "execution_count": 5,
      "outputs": [
        {
          "output_type": "stream",
          "text": [
            "(['약', '속', '장', '소', '인', '신', '라', '호', '텔', '커', '피', '숍', '에', '재', '옥', '이', '먼', '저', '와', '기', '다', '리', '고', '있', '었', '다', '.'], ['B', 'I', 'B', 'I', 'I', 'B', 'I', 'I', 'I', 'B', 'I', 'I', 'I', 'B', 'I', 'I', 'B', 'I', 'B', 'B', 'I', 'I', 'I', 'B', 'I', 'I', 'I'])\n",
            "(['\"', '야', '!', '나', '이', '든', '처', '녀', '가', '옷', '이', '라', '도', '좀', '화', '사', '한', '색', '으', '로', '입', '고', '다', '녀', '라', '.', '회', '색', '에', '다', '검', '정', '바', '바', '리', '가', '뭐', '니', '?', '\"'], ['B', 'I', 'I', 'B', 'I', 'B', 'B', 'I', 'I', 'B', 'I', 'I', 'I', 'B', 'B', 'I', 'I', 'B', 'I', 'I', 'B', 'I', 'B', 'I', 'I', 'I', 'B', 'I', 'I', 'I', 'B', 'I', 'B', 'I', 'I', 'I', 'B', 'I', 'I', 'I'])\n",
            "(['재', '옥', '은', '전', '에', '없', '이', '정', '현', '의', '옷', '차', '림', '을', '탓', '하', '였', '다', '.'], ['B', 'I', 'I', 'B', 'I', 'B', 'I', 'B', 'I', 'I', 'B', 'I', 'I', 'I', 'B', 'I', 'I', 'I', 'I'])\n",
            "(['\"', '이', '게', '어', '때', '서', '?', '갑', '자', '기', '옷', '얘', '긴', '왜', '하', '니', '?', '선', '보', '일', '일', '있', '니', '?', '\"'], ['B', 'I', 'I', 'B', 'I', 'I', 'I', 'B', 'I', 'I', 'B', 'B', 'I', 'B', 'B', 'I', 'I', 'B', 'I', 'I', 'B', 'B', 'I', 'I', 'I'])\n",
            "(['정', '현', '은', '대', '수', '롭', '지', '않', '게', '받', '아', '넘', '겼', '다', '.'], ['B', 'I', 'I', 'B', 'I', 'I', 'I', 'B', 'I', 'B', 'I', 'I', 'I', 'I', 'I'])\n"
          ],
          "name": "stdout"
        }
      ]
    },
    {
      "cell_type": "markdown",
      "metadata": {
        "id": "7DFtdGvdtGK3"
      },
      "source": [
        "<pre>\n",
        "<h2> 1. 문장의 각 음절을 crf 모델의 입력으로 사용 할 수 있도록 자질화 </h2>\n",
        "  \"WORD\" : 현재 음절\n",
        "\n",
        "  1.1 예시) [\"나\", \"는\", \"사\", \"과\", \"가\", \"좋\", \"아\"]\n",
        "            ->\n",
        "            [ {\"WORD\":\"나\"}, {\"WORD\":\"는\"}, {\"WORD\":\"사\"}, ... ]\n",
        "    \n",
        "    나 -> {\"WORD\":\"나\"}\n",
        "    는 -> {\"WORD\":\"는\"}\n",
        "    사 -> {\"WORD\":\"사\"}\n",
        "    ...\n",
        "<h2> 2. 자질화한 데이터와 해당 데이터의 라벨을 분리하여 각 리스트에 저장 </h2>\n",
        "  학습 데이터 -> train_x(자질화한 데이터), train_y(각 데이터의 정답 라벨)에 저장\n",
        "  평가 데이터 -> test_x(자질화한 데이터), test_y(각 데이터의 정답 라벨)에 저장\n",
        "  \n",
        "  2.1 예시)\n",
        "    train_x -> [\n",
        "    \n",
        "    [ {\"WORD\":\"나\"}, {\"WORD\":\"는\"}, {\"WORD\":\"사\"}, ... ],\n",
        "    [ ... ],\n",
        "    ...\n",
        "    ]\n",
        "    \n",
        "    train_y -> [\n",
        "    [ \"B\", \"I\", \"B\", \"I\", \"I\", \"B\", \"I\" ],\n",
        "    [ ... ],\n",
        "    ...\n",
        "    ]\n",
        "\n",
        "</pre>"
      ]
    },
    {
      "cell_type": "code",
      "metadata": {
        "id": "wXUcdCtStD6_"
      },
      "source": [
        "def sent2feature(eumjeol_sequence):\n",
        "    features = []\n",
        "    for eumjeol in eumjeol_sequence:\n",
        "        feature = {\"WORD\":eumjeol}\n",
        "        features.append(feature)\n",
        "    return features"
      ],
      "execution_count": 6,
      "outputs": []
    },
    {
      "cell_type": "code",
      "metadata": {
        "id": "-IRmictAtHuT"
      },
      "source": [
        "train_x, train_y = [], []\n",
        "for eumjeol_sequence, label in train_datas:\n",
        "    train_x.append(sent2feature(eumjeol_sequence))\n",
        "    train_y.append(label)\n",
        "    \n",
        "test_x, test_y = [], []\n",
        "for eumjeol_sequence, label in test_datas:\n",
        "    test_x.append(sent2feature(eumjeol_sequence))\n",
        "    test_y.append(label)"
      ],
      "execution_count": 20,
      "outputs": []
    },
    {
      "cell_type": "markdown",
      "metadata": {
        "id": "aLwnPyedtJHj"
      },
      "source": [
        "## 1. train_x, train_y를 이용하여 crf 모델 학습"
      ]
    },
    {
      "cell_type": "code",
      "metadata": {
        "id": "0q6lcbAOtIkp",
        "outputId": "347d3b05-ae27-4b2e-fccb-fb8f17e8a74f",
        "colab": {
          "base_uri": "https://localhost:8080/",
          "height": 195
        }
      },
      "source": [
        "crf = sklearn_crfsuite.CRF(algorithm='lbfgs')\n",
        "crf.fit(train_x, train_y)"
      ],
      "execution_count": 23,
      "outputs": [
        {
          "output_type": "stream",
          "text": [
            "/usr/local/lib/python3.6/dist-packages/sklearn/base.py:197: FutureWarning: From version 0.24, get_params will raise an AttributeError if a parameter cannot be retrieved as an instance attribute. Previously it would return None.\n",
            "  FutureWarning)\n"
          ],
          "name": "stderr"
        },
        {
          "output_type": "execute_result",
          "data": {
            "text/plain": [
              "CRF(algorithm='lbfgs', all_possible_states=None, all_possible_transitions=None,\n",
              "    averaging=None, c=None, c1=None, c2=None, calibration_candidates=None,\n",
              "    calibration_eta=None, calibration_max_trials=None, calibration_rate=None,\n",
              "    calibration_samples=None, delta=None, epsilon=None, error_sensitive=None,\n",
              "    gamma=None, keep_tempfiles=None, linesearch=None, max_iterations=None,\n",
              "    max_linesearch=None, min_freq=None, model_filename=None, num_memories=None,\n",
              "    pa_type=None, period=None, trainer_cls=None, variance=None, verbose=False)"
            ]
          },
          "metadata": {
            "tags": []
          },
          "execution_count": 23
        }
      ]
    },
    {
      "cell_type": "markdown",
      "metadata": {
        "id": "OYVNdbiOtdGt"
      },
      "source": [
        "<pre>\n",
        "<h2> 1. 학습한 모델을 test_x 데이터를 사용하여 평가 </h2>\n",
        "<h2> 2. 성능 측정 </h2>\n",
        "  2.1 metrics.flat_accuracy_score(x, y) 함수를 이용하여 성능 측정\n",
        "    metrics.flat_accuracy_score(x, y)\n",
        "  args\n",
        "    x : 실제 정답 라벨이 있는 리스트\n",
        "    y : 모델의 출력 라벨이 있는 리스트\n",
        "  return : \n",
        "    accuracy 성능\n",
        "  \n",
        "<h2> 3. 모델의 출력 값과 정답 값을 이용하여 음절만으로 구성된 완전한 문장으로 변형 </h2>\n",
        "  3.1 test_datas, pred_y 예시\n",
        "    test_datas = [\n",
        "    ( [\"나\", \"는\", \"사\", \"과\", \"가\", \"좋\", \"아\"], [\"B\", \"I\", \"B\", \"I\", \"I\", \"B\", \"I\"] ),\n",
        "    \n",
        "    ( ... ),\n",
        "    \n",
        "    ...\n",
        "    \n",
        "    ]\n",
        "    \n",
        "    pred_y = [\n",
        "    \n",
        "    [\"B\", \"B\", \"B\", \"I\", \"I\", \"I\", \"I\"],\n",
        "    \n",
        "    [ ... ],\n",
        "    \n",
        "    ...\n",
        "    \n",
        "    ]\n",
        "    \n",
        "    위의 문장을 기준으로한 변형 예시\n",
        "    \n",
        "    \"나\", \"는\", \"사\", \"과\", \"가\", \"좋\", \"아\" -> 나는 사과가 좋아 (정답 기준으로 변형)\n",
        "    \"나\", \"는\", \"사\", \"과\", \"가\", \"좋\", \"아\" -> 나 는 사과가좋아 (모델 출력 기준으로 변형)\n",
        "  \n",
        "  3.2 최종 출력 예시\n",
        "  \n",
        "    정답 문장 : 1914- 18년의 전쟁은 인류를 통합시킨 최초의 공통분모였다.\n",
        "    출력 문장 : 19 14- 18년의 전쟁은 인류를 통합시킨 최초의 공통 분모였다.\n",
        "\n",
        "    정답 문장 : 하지만 이 전쟁은 죽음을 통해 인류를 통합시켰다.\n",
        "    출력 문장 : 하지만이 전쟁은 죽음을 통해 인류를 통합시켰다.\n",
        "\n",
        "    정답 문장 : 사라예보에서 한 세르비아인이 쏜 총 한발이 합스부르크가의 계승자를 죽였다.\n",
        "    출력 문장 : 사라 예보에서 한세르비아인이 쏜총한 발이 합스부르크가의 계승자를 죽였다.\n",
        "    \n",
        "    ...\n",
        "  \n",
        "  \n",
        "</pre>\n"
      ]
    },
    {
      "cell_type": "code",
      "metadata": {
        "id": "y29cgGFqtLhF",
        "outputId": "cfb10f48-b2aa-46db-be18-4c114bd6bdca",
        "colab": {
          "base_uri": "https://localhost:8080/",
          "height": 34
        }
      },
      "source": [
        "# 학습된 모델의 성능 평가 \n",
        "predict = crf.predict(test_x)\n",
        "\n",
        "print(\"Accuracy Score: \" + str(metrics.flat_accuracy_score(test_y, predict)))"
      ],
      "execution_count": 24,
      "outputs": [
        {
          "output_type": "stream",
          "text": [
            "Accuracy Score: 0.7588706600534147\n"
          ],
          "name": "stdout"
        }
      ]
    },
    {
      "cell_type": "code",
      "metadata": {
        "id": "UII9qlYluNRt"
      },
      "source": [
        "# 모델의 출력값을 이용한 띄어쓰기 함수\n",
        "def show_predict_result(test_datas, predict):\n",
        "  for index_1 in range(len(test_datas)):\n",
        "    eumjeol_sequence, correct_labels = test_datas[index_1]\n",
        "    predict_labels = predict[index_1]\n",
        "  \n",
        "    correct_sentence, predict_sentence = \"\", \"\"\n",
        "    for index_2 in range(len(eumjeol_sequence)):\n",
        "      # 첫 음절인 경우\n",
        "      if(index_2 == 0): \n",
        "        correct_sentence += eumjeol_sequence[index_2]\n",
        "        predict_sentence += eumjeol_sequence[index_2]\n",
        "        continue\n",
        "      \n",
        "      # B태그인 음절의 경우 앞에 띄어쓰기 넣어줌\n",
        "      if(correct_labels[index_2] == 'B'):\n",
        "        correct_sentence += \" \"\n",
        "      correct_sentence += eumjeol_sequence[index_2]\n",
        "\n",
        "      # B태그인 음절의 경우 앞에 띄어쓰기 넣어줌\n",
        "      if(predict_labels[index_2] == 'B'):\n",
        "        predict_sentence += \" \"\n",
        "      predict_sentence += eumjeol_sequence[index_2]\n",
        "\n",
        "    print(\"정답 문장 : \" + correct_sentence)\n",
        "    print(\"출력 문장 : \" + predict_sentence)\n",
        "    print()\n",
        "    "
      ],
      "execution_count": 25,
      "outputs": []
    },
    {
      "cell_type": "code",
      "metadata": {
        "id": "QHSP7iywwh_7",
        "outputId": "e827ef88-4e84-48ba-b57d-8efd78876c58",
        "colab": {
          "base_uri": "https://localhost:8080/",
          "height": 600
        }
      },
      "source": [
        "print(\"10개의 데이터에 대한 모델 출력과 실제 정답 비교\")\n",
        "print()\n",
        "\n",
        "show_predict_result(test_datas[:10], predict[:10])"
      ],
      "execution_count": 26,
      "outputs": [
        {
          "output_type": "stream",
          "text": [
            "10개의 데이터에 대한 모델 출력과 실제 정답 비교\n",
            "\n",
            "정답 문장 : 1914- 18년의 전쟁은 인류를 통합시킨 최초의 공통분모였다.\n",
            "출력 문장 : 19 14- 18년의 전쟁은인류를 통합 시킨 최초의 공통분 모였다.\n",
            "\n",
            "정답 문장 : 하지만 이 전쟁은 죽음을 통해 인류를 통합시켰다.\n",
            "출력 문장 : 하지 만이 전쟁은 죽음을 통해인류를 통합 시켰다.\n",
            "\n",
            "정답 문장 : 사라예보에서 한 세르비아인이 쏜 총 한발이 합스부르크가의 계승자를 죽였다.\n",
            "출력 문장 : 사라 예보에서한 세르 비아인이 쏜총한 발이 합스 부르 크가의 계승 자를 죽였다.\n",
            "\n",
            "정답 문장 : 이 암살행위는 국지적인 민족주의들과 세계적인 제국주의들이 충돌하는 분쟁지역에서 저질러졌다.\n",
            "출력 문장 : 이암 살행 위는 국지적인 민족 주의들과세 계적인 제국 주의들이충 돌하는분쟁지 역에서 저질러졌다.\n",
            "\n",
            "정답 문장 : 오토만제국의 점진적인 해체는 민족주의의 독기를 발산하는 동시에 오스트리아, 헝가리와 독일, 영국, 프랑스의 탐욕을 자극했다.\n",
            "출력 문장 : 오토만 제국의 점진적인해 체는 민족 주의의 독기를 발산 하는 동시에 오스트리 아, 헝가리와독 일, 영국, 프랑스의 탐욕을자 극했다.\n",
            "\n",
            "정답 문장 : 이렇게 해서 발칸 반도의 한 외진 장소에서 벌어진 국지적인 테러 행위는 일련의 긴박한 반응을 불러 일으키면서 전 유럽에 영향을 미쳤을 뿐만 아니라 이번에는 아시아와 아프리카 식민지들, 일본, 그리고 이어서 미국과 멕시코까지 끌어들였다.\n",
            "출력 문장 : 이렇게해서 발칸 반도의한 외진장 소에서 벌어 진국지적인 테러행 위는 일련의긴 박한 반응을 불러 일으키면서전 유럽에 영향을 미쳤을 뿐만 아니라이 번에는 아시 아와 아프리카식 민지들, 일본, 그리고이 어서 미국과 멕시 코까지 끌어들였다.\n",
            "\n",
            "정답 문장 : 전쟁의 물결이 지구상의 모든 대양으로 밀려드는 동안 캐나다인들과 미국인들, 오스트레일리아인들, 세네갈인들, 알제리인들, 모로코인들, 안남(安南)인들은 연합군 깃발을 휘날리며 유럽전선에서 싸웠다.\n",
            "출력 문장 : 전쟁의물 결이지구 상의 모든 대양으로 밀려 드는동 안캐 나다인들과 미국인들, 오스트레 일리 아인들, 세네 갈인들, 알제리인들, 모로 코인들,안 남(安 南)인들은 연합 군깃 발을 휘날리며 유럽 전선에서 싸웠다.\n",
            "\n",
            "정답 문장 : 앞서 살펴본 것처럼, 세계대전의 원인이 된 것은 대립관계에 있던 유럽 제국주의의 구심적 회귀였다.\n",
            "출력 문장 : 앞서 살펴본 것처럼,세 계대 전의 원인이된 것은 대립관 계에 있던 유럽 제국 주의의구 심적회 귀였다.\n",
            "\n",
            "정답 문장 : 그리고 세계대전을 촉발시킨 것은 주요 제국주의들과 소수 민족주의들 간의 상호작용이었다.\n",
            "출력 문장 : 그리고세 계대 전을촉 발시킨 것은 주요 제국 주의들과 소수 민족 주의들간의 상호작용이었다.\n",
            "\n",
            "정답 문장 : 또한 세계대전의 빌미를 제공한 것은 격화된 민족주의들이었다.\n",
            "출력 문장 : 또한세 계대 전의빌 미를제 공한 것은격화된 민족 주의들이었다.\n",
            "\n"
          ],
          "name": "stdout"
        }
      ]
    },
    {
      "cell_type": "code",
      "metadata": {
        "id": "hHEjGOZMxBrF"
      },
      "source": [
        ""
      ],
      "execution_count": null,
      "outputs": []
    }
  ]
}