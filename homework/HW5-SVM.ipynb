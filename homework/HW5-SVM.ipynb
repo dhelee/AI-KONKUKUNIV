{
 "cells": [
  {
   "cell_type": "code",
   "execution_count": 1,
   "metadata": {},
   "outputs": [],
   "source": [
    "file_path = 'C:/Users/이다혜/Desktop/2020-2/AI/SMSSpamCollection'\n",
    "\n",
    "# 파일 읽기\n",
    "with open(file_path, 'r', encoding='utf8') as inFile:\n",
    "    lines = inFile.readlines()\n",
    "    \n",
    "x_data, y_data = [], []\n",
    "for line in lines:\n",
    "    data = line.strip().split('\\t')\n",
    "    label, sentence = data[0], data[1]\n",
    "    x_data.append(sentence)\n",
    "    y_data.append(label)"
   ]
  },
  {
   "cell_type": "markdown",
   "metadata": {},
   "source": [
    "## 1. spam 데이터와 ham 데이터 분류"
   ]
  },
  {
   "cell_type": "code",
   "execution_count": 2,
   "metadata": {},
   "outputs": [],
   "source": [
    "spam_data, ham_data = [], []\n",
    "for i in range(len(x_data)):\n",
    "    if y_data[i] == 'spam':\n",
    "        spam_data.append(x_data[i])\n",
    "    else:\n",
    "        ham_data.append(x_data[i])"
   ]
  },
  {
   "cell_type": "markdown",
   "metadata": {},
   "source": [
    "## 2. 단어별 카이제곱 통계량 구하기"
   ]
  },
  {
   "cell_type": "code",
   "execution_count": 3,
   "metadata": {},
   "outputs": [],
   "source": [
    "import re"
   ]
  },
  {
   "cell_type": "code",
   "execution_count": 4,
   "metadata": {},
   "outputs": [],
   "source": [
    "# 카이제곱 분포를 바탕으로 단어의 가중치를 계산하는 함수\n",
    "def get_weight(word):\n",
    "    A, B = 0, 0\n",
    "    \n",
    "    # spam 데이터 중에서 word를 포함하는 문서 수 = A\n",
    "    for i in range(len(spam_data)):\n",
    "        words = spam_data[i].split()\n",
    "        if word in words:\n",
    "            A += 1\n",
    "            \n",
    "    # ham 데이터 중에서 word를 포함하는 문서 수 = B\n",
    "    for i in range(len(ham_data)):\n",
    "        words = ham_data[i].split()\n",
    "        if word in words:\n",
    "            B += 1\n",
    "    \n",
    "    C = A - len(spam_data)\n",
    "    D = B - len(ham_data)\n",
    "    \n",
    "    # 카이제곱 통계량 계산하기 \n",
    "    weight = ((A+B+C+D) * ((A*D-B*C) * (A*D-B*C))) / ((A+B) * (A+C) * (B+D) * (C+D))\n",
    "    return weight"
   ]
  },
  {
   "cell_type": "markdown",
   "metadata": {},
   "source": [
    "## 3. 가중치가 높은 200개 단어 선정"
   ]
  },
  {
   "cell_type": "code",
   "execution_count": 5,
   "metadata": {},
   "outputs": [],
   "source": [
    "chi_squared_weights = {}\n",
    "\n",
    "for i in range(len(x_data)):\n",
    "    # 숫자 및 특수문자 제거 등 전처리 \n",
    "    # sentence = re.sub('[^ a-zA-Z]', ' ', x_data[i])\n",
    "    # 띄어쓰기가 중복된 경우 하나로 수정, 앞 뒤 공백 제거\n",
    "    # sentence = re.sub(' +', ' ', sentence).strip()\n",
    "    \n",
    "    # 단어의 가중치 딕셔너리 구성 \n",
    "    # key = word, value = chi squared statistic\n",
    "    words = x_data[i].split()\n",
    "    for word in words:\n",
    "        try:\n",
    "            chi_squared_weights[word] += get_weight(word)\n",
    "        except:\n",
    "            chi_squared_weights[word] = get_weight(word)\n",
    "        "
   ]
  },
  {
   "cell_type": "code",
   "execution_count": 6,
   "metadata": {},
   "outputs": [],
   "source": [
    "chi_squared_weights = sorted(chi_squared_weights.items(), key=lambda x : x[1], reverse=True)"
   ]
  },
  {
   "cell_type": "code",
   "execution_count": 7,
   "metadata": {},
   "outputs": [],
   "source": [
    "# 가중치 상위 200개 단어를 자질로 선정 \n",
    "features = chi_squared_weights[:200]"
   ]
  },
  {
   "cell_type": "code",
   "execution_count": 8,
   "metadata": {
    "scrolled": false
   },
   "outputs": [
    {
     "data": {
      "text/plain": [
       "[('a', 35120.091697687814),\n",
       " ('or', 23446.003459718475),\n",
       " ('I', 19264.25099821493),\n",
       " ('2', 17306.315491896505),\n",
       " ('Call', 13770.929692033007),\n",
       " ('call', 11631.058365460325),\n",
       " ('your', 6916.8863661701935),\n",
       " ('ur', 6774.43132232243),\n",
       " ('txt', 6736.880268874422),\n",
       " ('i', 5722.268531703756),\n",
       " ('&', 5553.207311679698),\n",
       " ('from', 5444.449140840444),\n",
       " ('my', 4543.367118643566),\n",
       " ('on', 4172.754223464156),\n",
       " ('for', 4020.047460417731),\n",
       " ('our', 3977.990553256442),\n",
       " ('FREE', 3908.6598770268024),\n",
       " ('have', 3487.90753036557),\n",
       " ('with', 3289.2918331483093),\n",
       " ('4', 2926.2642611610427),\n",
       " ('claim', 2587.196275230129),\n",
       " ('text', 2458.8876230140786),\n",
       " ('To', 2375.9032117551724),\n",
       " ('reply', 2334.4538835959816),\n",
       " ('me', 2160.289100049933),\n",
       " ('now', 2094.246430534518),\n",
       " ('mobile', 2055.3091783508803),\n",
       " ('Txt', 1952.5437194333365),\n",
       " ('contact', 1878.1826525071076),\n",
       " ('u', 1840.1282076139153),\n",
       " ('Your', 1619.6772803160723),\n",
       " ('You', 1513.5616727124216),\n",
       " ('you', 1364.6392625353683),\n",
       " ('and', 1312.7716096678803),\n",
       " ('in', 1263.7028288954816),\n",
       " ('STOP', 1226.5894542827962),\n",
       " ('the', 1186.1287206159393),\n",
       " ('won', 1138.975921834025),\n",
       " ('awarded', 1138.975921834025),\n",
       " ('service', 1138.975921834025),\n",
       " ('16', 1110.8152958329563),\n",
       " ('draw', 1110.8152958329563),\n",
       " ('-', 1054.8030217222624),\n",
       " ('U', 1021.7071385380669),\n",
       " ('prize', 960.9829420705961),\n",
       " ('￡1000', 960.9829420705961),\n",
       " ('Free', 935.1888933426482),\n",
       " ('not', 865.2096922170691),\n",
       " ('now!', 859.7865363313936),\n",
       " ('Nokia', 799.6702241306715),\n",
       " ('receive', 782.435001210074),\n",
       " ('every', 781.0096466532628),\n",
       " ('We', 778.3476243240909),\n",
       " ('customer', 753.0748708684861),\n",
       " ('is', 743.1850818705767),\n",
       " ('cash', 707.8019166595045),\n",
       " ('per', 685.6634739534682),\n",
       " ('of', 684.359574407388),\n",
       " ('Claim', 654.5517122698333),\n",
       " ('guaranteed', 654.5517122698333),\n",
       " ('150ppm', 654.5517122698333),\n",
       " ('500', 654.5517122698333),\n",
       " ('18', 654.5517122698333),\n",
       " ('entry', 641.8634650542851),\n",
       " ('Text', 633.386731159439),\n",
       " ('we', 631.43801083001),\n",
       " (\"I'm\", 626.5664923801618),\n",
       " ('shows', 612.5518796380775),\n",
       " ('it', 597.4635415153933),\n",
       " ('free', 573.7548073100612),\n",
       " ('stop', 571.8759832988272),\n",
       " ('got', 561.4850916586907),\n",
       " ('but', 559.4990968375226),\n",
       " ('that', 538.526398910846),\n",
       " ('URGENT!', 525.1610168625969),\n",
       " ('PO', 525.1610168625969),\n",
       " ('￡500', 525.1610168625969),\n",
       " ('phone', 520.6229742090987),\n",
       " ('Get', 506.2607841831971),\n",
       " ('when', 499.2579659537326),\n",
       " ('only', 489.3524179613168),\n",
       " ('Reply', 487.6910921707909),\n",
       " ('&lt;#&gt;', 476.1812122693548),\n",
       " ('been', 470.01518704975194),\n",
       " ('Ur', 445.1116712452914),\n",
       " ('come', 436.4170182596669),\n",
       " ('For', 433.9738550481646),\n",
       " ('latest', 411.05042639470815),\n",
       " ('if', 385.82786484837374),\n",
       " ('Please', 383.2625739683894),\n",
       " ('selected', 378.0469179695479),\n",
       " ('like', 355.8383388304184),\n",
       " ('who', 336.5234973532334),\n",
       " ('1', 335.5808875661295),\n",
       " ('week', 335.5808875661295),\n",
       " ('so', 324.2660784456615),\n",
       " ('UR', 314.65714525930485),\n",
       " ('Mobile', 311.7899784400169),\n",
       " ('No:', 311.7899784400169),\n",
       " ('prize!', 311.7899784400169),\n",
       " ('86688', 311.7899784400169),\n",
       " ('￡100', 311.7899784400169),\n",
       " ('new', 303.60284771570423),\n",
       " ('at', 302.1055711837472),\n",
       " ('network', 297.32497827562946),\n",
       " (\"I'll\", 291.9856344972617),\n",
       " ('1st', 283.1914307333744),\n",
       " ('But', 270.4613233210105),\n",
       " ('send', 266.46731260606265),\n",
       " ('delivery', 264.7943498130453),\n",
       " ('think', 263.2802997129374),\n",
       " ('out', 233.06701207333168),\n",
       " ('GUARANTEED.', 226.96658555403883),\n",
       " ('4*', 226.96658555403883),\n",
       " ('Win', 226.96658555403883),\n",
       " ('vouchers', 226.96658555403883),\n",
       " ('750', 226.96658555403883),\n",
       " ('Orange', 226.96658555403883),\n",
       " ('T', 226.96658555403883),\n",
       " ('T&Cs', 226.96658555403883),\n",
       " ('find', 220.4419036798689),\n",
       " ('pounds', 214.67406586436542),\n",
       " ('chat', 214.67406586436542),\n",
       " ('Congratulations', 214.67406586436542),\n",
       " ('Dear', 205.39941242280617),\n",
       " ('am', 203.56753812636182),\n",
       " ('final', 202.71349843471444),\n",
       " ('word', 202.71349843471444),\n",
       " ('texts', 202.71349843471444),\n",
       " ('going', 199.48707543542434),\n",
       " ('time', 197.5400748079608),\n",
       " ('are', 195.49254702343086),\n",
       " ('waiting', 193.61049015152258),\n",
       " ('do', 178.25526459261314),\n",
       " ('can', 172.0980525290481),\n",
       " ('New', 168.8322343503993),\n",
       " ('Send', 168.8322343503993),\n",
       " ('more', 168.64056120206854),\n",
       " ('need', 159.51298295120216),\n",
       " ('then', 158.9873369611177),\n",
       " ('win', 158.4186697302373),\n",
       " ('wkly', 156.18321233379558),\n",
       " ('Valid', 156.18321233379558),\n",
       " ('camera', 156.18321233379558),\n",
       " ('100', 156.18321233379558),\n",
       " ('16+', 156.18321233379558),\n",
       " ('eg', 156.18321233379558),\n",
       " ('0800', 156.18321233379558),\n",
       " ('WON', 156.18321233379558),\n",
       " ('Last', 156.18321233379558),\n",
       " ('12hrs', 156.18321233379558),\n",
       " ('winner', 156.18321233379558),\n",
       " ('PRIVATE!', 156.18321233379558),\n",
       " ('Account', 156.18321233379558),\n",
       " ('Statement', 156.18321233379558),\n",
       " ('Identifier', 156.18321233379558),\n",
       " ('Expires', 156.18321233379558),\n",
       " ('MUSIC', 156.18321233379558),\n",
       " ('87066', 156.18321233379558),\n",
       " ('TnCs', 156.18321233379558),\n",
       " ('weekly', 156.18321233379558),\n",
       " ('discount', 156.18321233379558),\n",
       " ('WIN', 156.18321233379558),\n",
       " ('apply.', 156.18321233379558),\n",
       " ('attempt', 156.18321233379558),\n",
       " ('Cs', 156.18321233379558),\n",
       " ('Ts&Cs', 156.18321233379558),\n",
       " ('apply', 146.0343482173471),\n",
       " ('NOW', 146.0343482173471),\n",
       " ('anytime', 146.0343482173471),\n",
       " ('chance', 146.0343482173471),\n",
       " ('he', 138.87720645047088),\n",
       " ('No.', 136.2179643181161),\n",
       " ('between', 136.2179643181161),\n",
       " ('worth', 136.2179643181161),\n",
       " ('line', 136.2179643181161),\n",
       " ('just', 130.56342344918423),\n",
       " ('So', 126.99247967847798),\n",
       " ('mins', 126.73493578418983),\n",
       " ('This', 126.52726285017953),\n",
       " ('sexy', 123.82262522927485),\n",
       " ('tones', 123.82262522927485),\n",
       " ('how', 120.24958155473463),\n",
       " ('still', 119.56464712840204),\n",
       " ('live', 117.58614140676133),\n",
       " ('day', 106.54039334841136),\n",
       " ('she', 102.58887552497197),\n",
       " ('what', 100.083399812144),\n",
       " ('good', 100.083399812144),\n",
       " ('￡1.50', 99.05810018341988),\n",
       " ('Cost', 99.05810018341988),\n",
       " ('word:', 99.05810018341988),\n",
       " ('T&C', 99.05810018341988),\n",
       " ('YES', 99.05810018341988),\n",
       " ('tried', 99.05810018341988),\n",
       " ('Congrats!', 99.05810018341988),\n",
       " ('Bonus', 99.05810018341988),\n",
       " ('complimentary', 99.05810018341988),\n",
       " ('representative', 99.05810018341988),\n",
       " ('ringtone', 99.05810018341988)]"
      ]
     },
     "execution_count": 8,
     "metadata": {},
     "output_type": "execute_result"
    }
   ],
   "source": [
    "features"
   ]
  },
  {
   "cell_type": "markdown",
   "metadata": {},
   "source": [
    "## 4. Tokenizer와 위에서 구한 feature를 이용해 문장을 vectorize"
   ]
  },
  {
   "cell_type": "code",
   "execution_count": 9,
   "metadata": {},
   "outputs": [],
   "source": [
    "from keras.preprocessing.text import Tokenizer\n",
    "\n",
    "label2index = {'spam':0, 'ham':1}\n",
    "index2label = {0:'spam', 1:'ham'}\n",
    "\n",
    "indexing_x_data, indexing_y_data = [], []\n",
    "\n",
    "for label in y_data:\n",
    "    indexing_y_data.append(label2index[label])"
   ]
  },
  {
   "cell_type": "code",
   "execution_count": 10,
   "metadata": {},
   "outputs": [],
   "source": [
    "tokenizer = Tokenizer(num_words=300) #300개 단어로 구성된 vocabulary 사용 \n",
    "\n",
    "#x_data를 이용하여 vocabulary 생성\n",
    "tokenizer.fit_on_texts(x_data)\n",
    "\n",
    "#x_data의 각 문장들을 one-hot 벡터의 합으로 치환\n",
    "indexing_x_data = tokenizer.texts_to_matrix(x_data, mode='count').tolist()"
   ]
  },
  {
   "cell_type": "code",
   "execution_count": 11,
   "metadata": {},
   "outputs": [],
   "source": [
    "from sklearn.feature_extraction.text import CountVectorizer\n",
    "\n",
    "# 200개 자질을 이용해 문장을 vectorize \n",
    "features = list(dict(features).keys())\n",
    "feature_x_data = CountVectorizer(vocabulary=features).transform(x_data).toarray().tolist()\n",
    "\n",
    "# 카이제곱 통계량으로 구한 자질을 indexing_x_data에 더하기\n",
    "for i in range(len(indexing_x_data)):\n",
    "    indexing_x_data[i] = indexing_x_data[i] + feature_x_data[i]"
   ]
  },
  {
   "cell_type": "code",
   "execution_count": 12,
   "metadata": {},
   "outputs": [
    {
     "data": {
      "text/plain": [
       "500"
      ]
     },
     "execution_count": 12,
     "metadata": {},
     "output_type": "execute_result"
    }
   ],
   "source": [
    "len(indexing_x_data[0])"
   ]
  },
  {
   "cell_type": "markdown",
   "metadata": {},
   "source": [
    "## 5. SVM 분류기 학습시키기 "
   ]
  },
  {
   "cell_type": "code",
   "execution_count": 13,
   "metadata": {},
   "outputs": [
    {
     "name": "stdout",
     "output_type": "stream",
     "text": [
      "train_x의 개수 : 1350\n",
      "train_y의 개수 : 1350\n",
      "test_x의 개수 : 150\n",
      "test_y의 개수 : 150\n"
     ]
    },
    {
     "data": {
      "text/plain": [
       "SVC()"
      ]
     },
     "execution_count": 13,
     "metadata": {},
     "output_type": "execute_result"
    }
   ],
   "source": [
    "from sklearn.svm import SVC\n",
    "\n",
    "# 전체 데이터를 9:1의 비율로 나누어 학습 및 평가 데이터로 사용\n",
    "num_of_train_data = int(len(indexing_x_data)*0.9)\n",
    "\n",
    "train_x, train_y = indexing_x_data[:num_of_train_data], indexing_y_data[:num_of_train_data]\n",
    "test_x, test_y = indexing_x_data[num_of_train_data:], indexing_y_data[num_of_train_data:]\n",
    "\n",
    "print(\"train_x의 개수 : \" + str(len(train_x)))\n",
    "print(\"train_y의 개수 : \" + str(len(train_y)))\n",
    "print(\"test_x의 개수 : \" + str(len(test_x)))\n",
    "print(\"test_y의 개수 : \" + str(len(test_y)))\n",
    "\n",
    "svm = SVC(kernel='rbf')\n",
    "svm.fit(train_x, train_y)"
   ]
  },
  {
   "cell_type": "markdown",
   "metadata": {},
   "source": [
    "## 6. 성능 평가"
   ]
  },
  {
   "cell_type": "code",
   "execution_count": 14,
   "metadata": {},
   "outputs": [
    {
     "name": "stdout",
     "output_type": "stream",
     "text": [
      "Accuracy: 0.95\n"
     ]
    }
   ],
   "source": [
    "from sklearn.metrics import accuracy_score\n",
    "\n",
    "predict = svm.predict(test_x)\n",
    "\n",
    "print('Accuracy: %.2f' % accuracy_score(test_y, predict))"
   ]
  }
 ],
 "metadata": {
  "kernelspec": {
   "display_name": "Python 3",
   "language": "python",
   "name": "python3"
  },
  "language_info": {
   "codemirror_mode": {
    "name": "ipython",
    "version": 3
   },
   "file_extension": ".py",
   "mimetype": "text/x-python",
   "name": "python",
   "nbconvert_exporter": "python",
   "pygments_lexer": "ipython3",
   "version": "3.8.3"
  }
 },
 "nbformat": 4,
 "nbformat_minor": 4
}
