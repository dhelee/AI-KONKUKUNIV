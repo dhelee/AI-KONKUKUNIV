{
  "nbformat": 4,
  "nbformat_minor": 0,
  "metadata": {
    "colab": {
      "name": "HW6-CRFs.ipynb",
      "provenance": []
    },
    "kernelspec": {
      "name": "python3",
      "display_name": "Python 3"
    }
  },
  "cells": [
    {
      "cell_type": "markdown",
      "metadata": {
        "id": "hgfLmvUKyEVg"
      },
      "source": [
        "<pre>\n",
        "<h2> Homework</h2>\n",
        "<h2> CRFs를 이용한 자동 띄어쓰기 성능 향상</h2>\n",
        "  입력 자질 : 직전 음절, 현재 음절, 다음 음절\n",
        "  기존 방법\n",
        "  [\"나\", \"는\", \"사\", \"과\", \"가\", \"좋\", \"아\"]\n",
        "            ->\n",
        "            [ {\"WORD\":\"나\"}, {\"WORD\":\"는\"}, {\"WORD\":\"사\"}, ... ]\n",
        "    \n",
        "    나 -> {\"WORD\":\"나\"}\n",
        "    는 -> {\"WORD\":\"는\"}\n",
        "    사 -> {\"WORD\":\"사\"}\n",
        "\n",
        "    각 feature dictionary에 자질 추가\n",
        "</pre>\n"
      ]
    },
    {
      "cell_type": "code",
      "metadata": {
        "id": "fl_FZZfRyC3O",
        "outputId": "7b001f08-a788-44b1-ee4a-db0cc93c79f2",
        "colab": {
          "base_uri": "https://localhost:8080/",
          "height": 213
        }
      },
      "source": [
        "!pip install sklearn-crfsuite"
      ],
      "execution_count": 1,
      "outputs": [
        {
          "output_type": "stream",
          "text": [
            "Collecting sklearn-crfsuite\n",
            "  Downloading https://files.pythonhosted.org/packages/25/74/5b7befa513482e6dee1f3dd68171a6c9dfc14c0eaa00f885ffeba54fe9b0/sklearn_crfsuite-0.3.6-py2.py3-none-any.whl\n",
            "Collecting python-crfsuite>=0.8.3\n",
            "\u001b[?25l  Downloading https://files.pythonhosted.org/packages/95/99/869dde6dbf3e0d07a013c8eebfb0a3d30776334e0097f8432b631a9a3a19/python_crfsuite-0.9.7-cp36-cp36m-manylinux1_x86_64.whl (743kB)\n",
            "\u001b[K     |████████████████████████████████| 747kB 4.0MB/s \n",
            "\u001b[?25hRequirement already satisfied: tqdm>=2.0 in /usr/local/lib/python3.6/dist-packages (from sklearn-crfsuite) (4.41.1)\n",
            "Requirement already satisfied: six in /usr/local/lib/python3.6/dist-packages (from sklearn-crfsuite) (1.15.0)\n",
            "Requirement already satisfied: tabulate in /usr/local/lib/python3.6/dist-packages (from sklearn-crfsuite) (0.8.7)\n",
            "Installing collected packages: python-crfsuite, sklearn-crfsuite\n",
            "Successfully installed python-crfsuite-0.9.7 sklearn-crfsuite-0.3.6\n"
          ],
          "name": "stdout"
        }
      ]
    },
    {
      "cell_type": "code",
      "metadata": {
        "id": "uNNDGqJByhtu"
      },
      "source": [
        "import sklearn_crfsuite\n",
        "from sklearn_crfsuite import metrics"
      ],
      "execution_count": 2,
      "outputs": []
    },
    {
      "cell_type": "markdown",
      "metadata": {
        "id": "FTWOwVZw2w3F"
      },
      "source": [
        "## 1. train data, test data 구성하기"
      ]
    },
    {
      "cell_type": "code",
      "metadata": {
        "id": "z7hxLp7KynzL"
      },
      "source": [
        "# 파일 경로\n",
        "file_path = '/content/drive/My Drive/인공지능/week6/spacing_data.txt'\n",
        "\n",
        "# 데이터 파일을 읽고 저장\n",
        "with open(file_path, \"r\", encoding='utf8') as inFile:\n",
        "    lines = inFile.readlines()"
      ],
      "execution_count": 3,
      "outputs": []
    },
    {
      "cell_type": "code",
      "metadata": {
        "id": "bI4BjEwjyr_A"
      },
      "source": [
        "# 데이터를 음절로 이루어진 문장과 정답 값으로 나누어 저장\n",
        "datas = []\n",
        "for line in lines:\n",
        "    pieces = line.strip().split('\\t')\n",
        "    eumjeol_sequence, label = pieces[0].split(), pieces[1].split()\n",
        "    datas.append((eumjeol_sequence, label))"
      ],
      "execution_count": 4,
      "outputs": []
    },
    {
      "cell_type": "code",
      "metadata": {
        "id": "oo3S-AXfys_E",
        "outputId": "da2dd653-7780-4bf8-b933-bf85df700136",
        "colab": {
          "base_uri": "https://localhost:8080/",
          "height": 52
        }
      },
      "source": [
        "# train test split\n",
        "num_of_train_datas = int(len(datas)*0.9)\n",
        "\n",
        "train_datas = datas[:num_of_train_datas]\n",
        "test_datas = datas[num_of_train_datas:]\n",
        "\n",
        "print(len(train_datas))\n",
        "print(len(test_datas))"
      ],
      "execution_count": 5,
      "outputs": [
        {
          "output_type": "stream",
          "text": [
            "900\n",
            "100\n"
          ],
          "name": "stdout"
        }
      ]
    },
    {
      "cell_type": "markdown",
      "metadata": {
        "id": "yLB63dBO23r3"
      },
      "source": [
        "## 2. 문장에서 자질 추출해 저장하기 "
      ]
    },
    {
      "cell_type": "code",
      "metadata": {
        "id": "uXnKxsyMyuGt"
      },
      "source": [
        "def sent2feature(eumjeol_sequence):\n",
        "    before_eumjeol, after_eumjeol = \"\", \"\"\n",
        "    features = []\n",
        "    for index, eumjeol in enumerate(eumjeol_sequence):\n",
        "      # 첫 음절일 경우 그 앞은 ^로 표시\n",
        "      if index == 0:\n",
        "        before_eumjeol = '^'\n",
        "        after_eumjeol = eumjeol_sequence[index+1]\n",
        "\n",
        "      # 끝 음절일 경우 그 뒤는 $로 표시\n",
        "      elif index == len(eumjeol_sequence)-1:\n",
        "        before_eumjeol = eumjeol_sequence[index-1]\n",
        "        after_eumjeol = '$'\n",
        "\n",
        "      # 첫 음절도 끝 음절도 아닐 경우\n",
        "      else:\n",
        "        before_eumjeol = eumjeol_sequence[index-1]\n",
        "        after_eumjeol = eumjeol_sequence[index+1]\n",
        "\n",
        "      feature = {\"BEFORE\":before_eumjeol, \"CURRENT\":eumjeol, \"AFTER\":after_eumjeol}\n",
        "      features.append(feature)\n",
        "    return features"
      ],
      "execution_count": 11,
      "outputs": []
    },
    {
      "cell_type": "code",
      "metadata": {
        "id": "5XAEOBAO0hhp"
      },
      "source": [
        "train_x, train_y = [], []\n",
        "for eumjeol_sequence, label in train_datas:\n",
        "    train_x.append(sent2feature(eumjeol_sequence))\n",
        "    train_y.append(label)\n",
        "    \n",
        "test_x, test_y = [], []\n",
        "for eumjeol_sequence, label in test_datas:\n",
        "    test_x.append(sent2feature(eumjeol_sequence))\n",
        "    test_y.append(label)"
      ],
      "execution_count": 12,
      "outputs": []
    },
    {
      "cell_type": "code",
      "metadata": {
        "id": "XUX5Q-0U0rIp",
        "outputId": "d3c66cb8-45b8-4a4b-9385-87c3155ac27a",
        "colab": {
          "base_uri": "https://localhost:8080/",
          "height": 492
        }
      },
      "source": [
        "train_x[0]"
      ],
      "execution_count": 18,
      "outputs": [
        {
          "output_type": "execute_result",
          "data": {
            "text/plain": [
              "[{'AFTER': '속', 'BEFORE': '^', 'CURRENT': '약'},\n",
              " {'AFTER': '장', 'BEFORE': '약', 'CURRENT': '속'},\n",
              " {'AFTER': '소', 'BEFORE': '속', 'CURRENT': '장'},\n",
              " {'AFTER': '인', 'BEFORE': '장', 'CURRENT': '소'},\n",
              " {'AFTER': '신', 'BEFORE': '소', 'CURRENT': '인'},\n",
              " {'AFTER': '라', 'BEFORE': '인', 'CURRENT': '신'},\n",
              " {'AFTER': '호', 'BEFORE': '신', 'CURRENT': '라'},\n",
              " {'AFTER': '텔', 'BEFORE': '라', 'CURRENT': '호'},\n",
              " {'AFTER': '커', 'BEFORE': '호', 'CURRENT': '텔'},\n",
              " {'AFTER': '피', 'BEFORE': '텔', 'CURRENT': '커'},\n",
              " {'AFTER': '숍', 'BEFORE': '커', 'CURRENT': '피'},\n",
              " {'AFTER': '에', 'BEFORE': '피', 'CURRENT': '숍'},\n",
              " {'AFTER': '재', 'BEFORE': '숍', 'CURRENT': '에'},\n",
              " {'AFTER': '옥', 'BEFORE': '에', 'CURRENT': '재'},\n",
              " {'AFTER': '이', 'BEFORE': '재', 'CURRENT': '옥'},\n",
              " {'AFTER': '먼', 'BEFORE': '옥', 'CURRENT': '이'},\n",
              " {'AFTER': '저', 'BEFORE': '이', 'CURRENT': '먼'},\n",
              " {'AFTER': '와', 'BEFORE': '먼', 'CURRENT': '저'},\n",
              " {'AFTER': '기', 'BEFORE': '저', 'CURRENT': '와'},\n",
              " {'AFTER': '다', 'BEFORE': '와', 'CURRENT': '기'},\n",
              " {'AFTER': '리', 'BEFORE': '기', 'CURRENT': '다'},\n",
              " {'AFTER': '고', 'BEFORE': '다', 'CURRENT': '리'},\n",
              " {'AFTER': '있', 'BEFORE': '리', 'CURRENT': '고'},\n",
              " {'AFTER': '었', 'BEFORE': '고', 'CURRENT': '있'},\n",
              " {'AFTER': '다', 'BEFORE': '있', 'CURRENT': '었'},\n",
              " {'AFTER': '.', 'BEFORE': '었', 'CURRENT': '다'},\n",
              " {'AFTER': '$', 'BEFORE': '다', 'CURRENT': '.'}]"
            ]
          },
          "metadata": {
            "tags": []
          },
          "execution_count": 18
        }
      ]
    },
    {
      "cell_type": "markdown",
      "metadata": {
        "id": "tAzEL5Ac3FGi"
      },
      "source": [
        "## 3. CRFs 학습시키기"
      ]
    },
    {
      "cell_type": "code",
      "metadata": {
        "id": "pbv9iceF06_H",
        "outputId": "c647b38d-32e5-42aa-8299-2b8f05c0ae2d",
        "colab": {
          "base_uri": "https://localhost:8080/",
          "height": 195
        }
      },
      "source": [
        "crf = sklearn_crfsuite.CRF(algorithm='lbfgs')\n",
        "crf.fit(train_x, train_y)"
      ],
      "execution_count": 14,
      "outputs": [
        {
          "output_type": "stream",
          "text": [
            "/usr/local/lib/python3.6/dist-packages/sklearn/base.py:197: FutureWarning: From version 0.24, get_params will raise an AttributeError if a parameter cannot be retrieved as an instance attribute. Previously it would return None.\n",
            "  FutureWarning)\n"
          ],
          "name": "stderr"
        },
        {
          "output_type": "execute_result",
          "data": {
            "text/plain": [
              "CRF(algorithm='lbfgs', all_possible_states=None, all_possible_transitions=None,\n",
              "    averaging=None, c=None, c1=None, c2=None, calibration_candidates=None,\n",
              "    calibration_eta=None, calibration_max_trials=None, calibration_rate=None,\n",
              "    calibration_samples=None, delta=None, epsilon=None, error_sensitive=None,\n",
              "    gamma=None, keep_tempfiles=None, linesearch=None, max_iterations=None,\n",
              "    max_linesearch=None, min_freq=None, model_filename=None, num_memories=None,\n",
              "    pa_type=None, period=None, trainer_cls=None, variance=None, verbose=False)"
            ]
          },
          "metadata": {
            "tags": []
          },
          "execution_count": 14
        }
      ]
    },
    {
      "cell_type": "markdown",
      "metadata": {
        "id": "nGzzAPlk3I7y"
      },
      "source": [
        "## 4. 모델 성능 평가 및 띄어쓰기 결과 출력하기"
      ]
    },
    {
      "cell_type": "code",
      "metadata": {
        "id": "Ye5dIGnc1gDf",
        "outputId": "e37a9feb-06f7-4449-8354-372a277ecf80",
        "colab": {
          "base_uri": "https://localhost:8080/",
          "height": 34
        }
      },
      "source": [
        "# 학습된 모델의 성능 평가 \n",
        "predict = crf.predict(test_x)\n",
        "\n",
        "print(\"Accuracy Score: \" + str(metrics.flat_accuracy_score(test_y, predict)))"
      ],
      "execution_count": 15,
      "outputs": [
        {
          "output_type": "stream",
          "text": [
            "Accuracy Score: 0.8994658527279664\n"
          ],
          "name": "stdout"
        }
      ]
    },
    {
      "cell_type": "code",
      "metadata": {
        "id": "n2vzmHI51iKS"
      },
      "source": [
        "# 모델의 출력값을 이용한 띄어쓰기 함수\n",
        "def show_predict_result(test_datas, predict):\n",
        "  for index_1 in range(len(test_datas)):\n",
        "    eumjeol_sequence, correct_labels = test_datas[index_1]\n",
        "    predict_labels = predict[index_1]\n",
        "  \n",
        "    correct_sentence, predict_sentence = \"\", \"\"\n",
        "    for index_2 in range(len(eumjeol_sequence)):\n",
        "      # 첫 음절인 경우\n",
        "      if(index_2 == 0): \n",
        "        correct_sentence += eumjeol_sequence[index_2]\n",
        "        predict_sentence += eumjeol_sequence[index_2]\n",
        "        continue\n",
        "      \n",
        "      # B태그인 음절의 경우 앞에 띄어쓰기 넣어줌\n",
        "      if(correct_labels[index_2] == 'B'):\n",
        "        correct_sentence += \" \"\n",
        "      correct_sentence += eumjeol_sequence[index_2]\n",
        "\n",
        "      # B태그인 음절의 경우 앞에 띄어쓰기 넣어줌\n",
        "      if(predict_labels[index_2] == 'B'):\n",
        "        predict_sentence += \" \"\n",
        "      predict_sentence += eumjeol_sequence[index_2]\n",
        "\n",
        "    print(\"정답 문장 : \" + correct_sentence)\n",
        "    print(\"출력 문장 : \" + predict_sentence)\n",
        "    print()\n",
        "    "
      ],
      "execution_count": 16,
      "outputs": []
    },
    {
      "cell_type": "code",
      "metadata": {
        "id": "QnBmkHx21mi1",
        "outputId": "be7f56de-15d8-4e9c-8b76-7306705a42b3",
        "colab": {
          "base_uri": "https://localhost:8080/",
          "height": 600
        }
      },
      "source": [
        "print(\"10개의 데이터에 대한 모델 출력과 실제 정답 비교\")\n",
        "print()\n",
        "\n",
        "show_predict_result(test_datas[:10], predict[:10])"
      ],
      "execution_count": 17,
      "outputs": [
        {
          "output_type": "stream",
          "text": [
            "10개의 데이터에 대한 모델 출력과 실제 정답 비교\n",
            "\n",
            "정답 문장 : 1914- 18년의 전쟁은 인류를 통합시킨 최초의 공통분모였다.\n",
            "출력 문장 : 19 14- 18년의 전쟁은 인류를 통합시킨 최초의 공통 분모였다.\n",
            "\n",
            "정답 문장 : 하지만 이 전쟁은 죽음을 통해 인류를 통합시켰다.\n",
            "출력 문장 : 하지만이 전쟁은 죽음을 통해 인류를 통합시켰다.\n",
            "\n",
            "정답 문장 : 사라예보에서 한 세르비아인이 쏜 총 한발이 합스부르크가의 계승자를 죽였다.\n",
            "출력 문장 : 사라 예보에서 한세르 비아인이 쏜총한 발이 합스부르크가의 계승자를 죽였다.\n",
            "\n",
            "정답 문장 : 이 암살행위는 국지적인 민족주의들과 세계적인 제국주의들이 충돌하는 분쟁지역에서 저질러졌다.\n",
            "출력 문장 : 이암 살행 위는 국지적인 민족주의 들과 세계적인 제국주의 들이 충돌하는 분쟁 지역에서 저질러졌다.\n",
            "\n",
            "정답 문장 : 오토만제국의 점진적인 해체는 민족주의의 독기를 발산하는 동시에 오스트리아, 헝가리와 독일, 영국, 프랑스의 탐욕을 자극했다.\n",
            "출력 문장 : 오토만 제국의 점진적인해체는 민족주의의 독기를 발산하는 동시에 오스 트리아, 헝가리와 독일, 영국, 프랑스의 탐욕을 자극했다.\n",
            "\n",
            "정답 문장 : 이렇게 해서 발칸 반도의 한 외진 장소에서 벌어진 국지적인 테러 행위는 일련의 긴박한 반응을 불러 일으키면서 전 유럽에 영향을 미쳤을 뿐만 아니라 이번에는 아시아와 아프리카 식민지들, 일본, 그리고 이어서 미국과 멕시코까지 끌어들였다.\n",
            "출력 문장 : 이렇게 해서 발칸 반도의 한외진 장소에서 벌어 진국지적인테 러행 위는 일련의 긴박한 반응을 불러일으키면서 전유럽에 영향을 미쳤을 뿐만 아니라이 번에는 아시아와 아프리 카식민지들, 일본, 그리고 이어서 미국과 멕시코까지 끌어들였다.\n",
            "\n",
            "정답 문장 : 전쟁의 물결이 지구상의 모든 대양으로 밀려드는 동안 캐나다인들과 미국인들, 오스트레일리아인들, 세네갈인들, 알제리인들, 모로코인들, 안남(安南)인들은 연합군 깃발을 휘날리며 유럽전선에서 싸웠다.\n",
            "출력 문장 : 전쟁의 물결이 지구상의 모든 대양으로 밀려드는 동안 캐나다인들과 미국인들, 오스트레 일리 아인들, 세네 갈인들, 알 제리인들, 모로 코인들, 안남(安南)인들은 연합군 깃발을 휘날리며 유럽 전선에서 싸웠다.\n",
            "\n",
            "정답 문장 : 앞서 살펴본 것처럼, 세계대전의 원인이 된 것은 대립관계에 있던 유럽 제국주의의 구심적 회귀였다.\n",
            "출력 문장 : 앞서 살펴본 것처럼, 세계대전의 원인이된 것은 대립 관계에 있던 유럽 제국주의 의구심적회귀였다.\n",
            "\n",
            "정답 문장 : 그리고 세계대전을 촉발시킨 것은 주요 제국주의들과 소수 민족주의들 간의 상호작용이었다.\n",
            "출력 문장 : 그리고 세계대전을 촉발 시킨 것은 주요 제국주의 들과 소수 민족주의 들간의 상호작용이었다.\n",
            "\n",
            "정답 문장 : 또한 세계대전의 빌미를 제공한 것은 격화된 민족주의들이었다.\n",
            "출력 문장 : 또한 세계대전의 빌미를 제공한 것은 격화된 민족주의 들이었다.\n",
            "\n"
          ],
          "name": "stdout"
        }
      ]
    },
    {
      "cell_type": "code",
      "metadata": {
        "id": "paoDnNYm1n6s"
      },
      "source": [
        ""
      ],
      "execution_count": null,
      "outputs": []
    }
  ]
}